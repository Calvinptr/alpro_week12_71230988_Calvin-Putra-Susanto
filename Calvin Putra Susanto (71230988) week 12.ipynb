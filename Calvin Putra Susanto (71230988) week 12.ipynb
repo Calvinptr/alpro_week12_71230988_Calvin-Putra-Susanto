{
 "cells": [
  {
   "cell_type": "code",
   "execution_count": 1,
   "id": "921ad0d6",
   "metadata": {},
   "outputs": [
    {
     "name": "stdout",
     "output_type": "stream",
     "text": [
      "True\n"
     ]
    }
   ],
   "source": [
    "# latihan 11.1\n",
    "tA= (90, 90, 90, 90)\n",
    "for i in range (0, len(tA)-1):\n",
    "    if tA[i] != tA[i+1]:\n",
    "        hasil = False\n",
    "    else:\n",
    "        hasil = True\n",
    "print(hasil)"
   ]
  },
  {
   "cell_type": "code",
   "execution_count": 4,
   "id": "1ccb85a8",
   "metadata": {},
   "outputs": [
    {
     "name": "stdout",
     "output_type": "stream",
     "text": [
      "NIM: 71230988\n",
      "NAMA: Calvin Putra Susanto\n",
      "ALAMAT: Magelang, Jawa Tengah\n",
      "\n",
      "NIM: ('7', '1', '2', '3', '0', '9', '8', '8')\n",
      "NAMA: ('a', 'l', 'v', 'i', 'n')\n",
      "NAMA TERBALIK: ['Susanto', 'Putra', 'Calvin']\n"
     ]
    }
   ],
   "source": [
    "# latihan 11.2\n",
    "dataDiri = ('Calvin Putra Susanto', '71230988', 'Magelang, Jawa Tengah')\n",
    "nim = tuple(dataDiri[1])\n",
    "splitNama = dataDiri[0].split()\n",
    "namaDepan = tuple(splitNama[0])\n",
    "hurufIlang = namaDepan[1:]\n",
    "balik = dataDiri[0].split()\n",
    "namaBalik = balik[::-1]\n",
    "\n",
    "print(f\"NIM: {dataDiri[1]}\")\n",
    "print(f\"NAMA: {dataDiri[0]}\")\n",
    "print(f\"ALAMAT: {dataDiri[2]}\")\n",
    "print()\n",
    "print(f\"NIM: {nim}\")\n",
    "print(f\"NAMA: {hurufIlang}\")\n",
    "print(f\"NAMA TERBALIK: {namaBalik}\")"
   ]
  },
  {
   "cell_type": "code",
   "execution_count": null,
   "id": "b6be90f3",
   "metadata": {},
   "outputs": [],
   "source": [
    "# latihan 11.3\n",
    "file_name = input(\"Masukkan nama file: \")\n",
    "buka_file = open(file_name, 'r')\n",
    "baca_baris = buka_file.readlines()\n",
    "a = []\n",
    "b = []\n",
    "dictSem = dict()\n",
    "\n",
    "for line in baca_baris:\n",
    "    if line.startswith(\"From\"):\n",
    "        if line.endswith(\"2008\\n\"):\n",
    "            a.append(line.split()[5])\n",
    "for j in a:\n",
    "    jam = j.split(\":\")[0]\n",
    "    b.append(jam)\n",
    "b.sort()\n",
    "for total in b:\n",
    "    dictSem[total] = dictSem.get(total, 0) + 1\n",
    "for key, val in dictSem.items():\n",
    "    print(key, val)"
   ]
  }
 ],
 "metadata": {
  "kernelspec": {
   "display_name": "Python 3 (ipykernel)",
   "language": "python",
   "name": "python3"
  },
  "language_info": {
   "codemirror_mode": {
    "name": "ipython",
    "version": 3
   },
   "file_extension": ".py",
   "mimetype": "text/x-python",
   "name": "python",
   "nbconvert_exporter": "python",
   "pygments_lexer": "ipython3",
   "version": "3.11.5"
  }
 },
 "nbformat": 4,
 "nbformat_minor": 5
}
